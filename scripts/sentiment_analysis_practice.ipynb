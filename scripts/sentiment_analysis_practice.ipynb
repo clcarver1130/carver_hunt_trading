{
 "cells": [
  {
   "cell_type": "code",
   "execution_count": 23,
   "metadata": {},
   "outputs": [],
   "source": [
    "import alpaca_trade_api as tradeapi\n",
    "from helper_functions import *\n",
    "from cam_paper_keys import *\n",
    "import pandas as pd\n",
    "import numpy as np\n",
    "import nltk\n",
    "nltk.download('vader_lexicon', quiet=True)\n",
    "from nltk.sentiment.vader import SentimentIntensityAnalyzer\n",
    "import bs4 as bs\n",
    "import requests\n",
    "from datetime import timedelta"
   ]
  },
  {
   "cell_type": "code",
   "execution_count": 2,
   "metadata": {},
   "outputs": [],
   "source": [
    "api = connect_paper_api(paper_key_id, paper_secret_key)\n",
    "symbols = save_sp500_tickers()\n",
    "sia = SentimentIntensityAnalyzer()"
   ]
  },
  {
   "cell_type": "code",
   "execution_count": 5,
   "metadata": {},
   "outputs": [],
   "source": [
    "resp = requests.get(news.url)"
   ]
  },
  {
   "cell_type": "code",
   "execution_count": null,
   "metadata": {},
   "outputs": [],
   "source": [
    "str(pd.Timestamp.today() - )[0:10]"
   ]
  },
  {
   "cell_type": "code",
   "execution_count": 25,
   "metadata": {},
   "outputs": [
    {
     "name": "stdout",
     "output_type": "stream",
     "text": [
      "Symbol:  ABBV \n",
      "Summary:  Humira had to be discounted by over 80% overseas and a similar plight could occur in the US sooner than later. The stock has upside potential but considerable downside risk. Much depends on ramping up of drugs in the pipeline and FDA approvals for new drugs. From a valuation perspective, the stock has 24% upside to 17% downside and in our opinion, this isn't very compelling at the moment. Speculative investors may want to take a shot but conservative investors should sit this one out. \n",
      "Score:  -0.7798\n",
      "Symbol:  ATVI \n",
      "Summary:  There is a strong lineup set for full-year 2019; expected to expand rapidly moving into 2020. An active emphasis is now placed on the expansion of technical development teams, capacity up by 20% leading to higher quality releases. Legacy management issues are being addressed competently and the return of previous CFO provides positive market sentiment. This is an attractive price point to buy into a great company at a fair price. \n",
      "Score:  0.9648\n",
      "Symbol:  AKAM \n",
      "Summary:  Q4 results are out and Akamai beats expectations, which is reflected in its share price of $70.21. Shares are currently 16% below their all-time high. Akamai has two competitive edges, the number of servers it deploys and the cloud security solutions that it offers to its customers. The premium on its share price contains all the anticipated growth in the CDN and cloud security market. \n",
      "Score:  0.9287\n",
      "Symbol:  MO \n",
      "Summary:  Altria stock is down 25% in the past 12 months as investors question the future direction of the company. Huge investments in e-vapor and cannabis are overshadowed by an uncertain regulatory climate. Altria is doing what is necessary to adapt to changing consumer habits. The company needs to make these investments to ensure its future growth. Due to the significant decline in the share price, Altria stock is a buying opportunity. \n",
      "Score:  0.8779\n",
      "Symbol:  AMZN \n",
      "Summary:  Amazon is pulling out of its planned secondary headquarters in New York because of political opposition. Long Island City, Queens, will thus lose 25,000 jobs, with an average salary of at least $150,000, through carping at a deal that had already been signed, sealed and delivered. Amazon’s opponents assailed the firm’s greed, but it was their own hypocritical greed that chased a future of prosperity out of their domain. \n",
      "Score:  -0.872\n",
      "Symbol:  APC \n",
      "Summary:  Anadarko Petroleum has posted a 74% increase in profits for 4Q18, but since then, oil prices have tumbled and may average $61/bbl in 2019, as per BNP Paribas. Dip in prices will drag Anadarko Petroleum’s earnings and cash flows, but it can still generate a profit and free cash flows (incl. dividends) if oil stays above $54/bbl. Beyond 2019, Anadarko Petroleum expects to further reduce its costs and begin working on the Mozambique LNG project. However, Anadarko Petroleum continues to carry a large debt load of $16.4 billion with a D/E ratio of 150% (136% as adj.), which is one of the highest in large-cap E&P space. \n",
      "Score:  0.743\n",
      "Symbol:  AAPL \n",
      "Summary:  The computer hardware space is characterized by frequent product introductions and rapid technological advances that can cause dramatic market share shifts. Computer hardware companies are exposed to the potential slowing of the Chinese economy and the ongoing US-China trade dispute. Let's dig into three leaders in the computer hardware industry, each of which holds a unique focus and varying levels of appeal. Apple, HP, and IBM are included. \n",
      "Score:  -0.2023\n",
      "Symbol:  AAPL \n",
      "Summary:  As predicted in my article, “Sonos: Long The Products - Short The Shares”, published ahead of the Sonos Q1-2019 earnings release, results for revenue and EPS surprised to the upside. Also, as predicted, the results confirmed Sonos is suffering from a continuing decline in gross margins that is proving intractable. Cutting sales and marketing expense is not a solution. Based on share volume since the end of Sonos’ 180 day IPO lock-up on January 28, many of Sonos’ pre-IPO investors, not subject Rule 144 restrictions, will have now exited. That leaves an overhang of ~51 million shares held by 5% investors, over half the float, free to sell following the earnings release, and undoubtedly looking for an early exit. \n",
      "Score:  -0.016\n",
      "Symbol:  AAPL \n",
      "Summary:  Apple's iPhone battery replacement cost the company an estimated $11 billion in lost replacement iPhone sales. Recently, Apple's iOS 12.1.2 and 12.1.4 have caused iPhone 7 phones to become nonfunctional. While Apple is repairing these phones, the company is using this opportunity to convince customers to trade in these defective phones with a new iPhone XR at a deeply discounted price. 85% of Apple's iPhone revenues are driven by replacements. \n",
      "Score:  0.1388\n"
     ]
    }
   ],
   "source": [
    "todays_date = str(pd.Timestamp.today())[0:10]\n",
    "yesterdays_date = str(pd.Timestamp.today() - timedelta(1))[0:10]\n",
    "for sym in symbols[0:50]:\n",
    "    for news in api.polygon.news(sym)[0:5]:\n",
    "        if (news.timestamp[0:10] == todays_date) or (news.timestamp[0:10] == yesterdays_date):\n",
    "            resp = requests.get(news.url)\n",
    "            try:\n",
    "                soup = bs.BeautifulSoup(resp.text, 'html.parser')\n",
    "                summary = soup.find('div', {'class': 'a-sum'})\n",
    "                string = []\n",
    "                [string.append(blurb.text) for blurb in summary.findAll('p')]\n",
    "                string = ' '.join(string)\n",
    "                print('Symbol: ', sym, '\\nSummary: ', string, '\\nScore: ', sia.polarity_scores(string)['compound'])\n",
    "            except:\n",
    "                pass\n",
    "        else:\n",
    "            pass "
   ]
  }
 ],
 "metadata": {
  "kernelspec": {
   "display_name": "Python 3",
   "language": "python",
   "name": "python3"
  },
  "language_info": {
   "codemirror_mode": {
    "name": "ipython",
    "version": 3
   },
   "file_extension": ".py",
   "mimetype": "text/x-python",
   "name": "python",
   "nbconvert_exporter": "python",
   "pygments_lexer": "ipython3",
   "version": "3.6.5"
  }
 },
 "nbformat": 4,
 "nbformat_minor": 2
}
