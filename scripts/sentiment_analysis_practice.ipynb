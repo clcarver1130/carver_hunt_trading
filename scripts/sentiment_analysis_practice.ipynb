{
 "cells": [
  {
   "cell_type": "markdown",
   "metadata": {},
   "source": [
    "## Sentiment Analysis of Polygon's News API"
   ]
  },
  {
   "cell_type": "code",
   "execution_count": 70,
   "metadata": {},
   "outputs": [],
   "source": [
    "# Import libraries\n",
    "import alpaca_trade_api as tradeapi\n",
    "from helper_functions import *\n",
    "from cam_paper_keys import *\n",
    "import pandas as pd\n",
    "import numpy as np\n",
    "import matplotlib.pyplot as plt\n",
    "import seaborn as sns\n",
    "sns.set_style('darkgrid')\n",
    "import nltk\n",
    "nltk.download('vader_lexicon', quiet=True)\n",
    "from nltk.sentiment.vader import SentimentIntensityAnalyzer\n",
    "import bs4 as bs\n",
    "import requests\n",
    "from datetime import timedelta"
   ]
  },
  {
   "cell_type": "code",
   "execution_count": 2,
   "metadata": {},
   "outputs": [],
   "source": [
    "# Connect to my \n",
    "api = connect_paper_api(paper_key_id, paper_secret_key)\n",
    "symbols = save_sp500_tickers()\n",
    "sia = SentimentIntensityAnalyzer()"
   ]
  },
  {
   "cell_type": "code",
   "execution_count": 45,
   "metadata": {},
   "outputs": [],
   "source": [
    "score_dict = dict()\n",
    "\n",
    "# Create timestamps for today and yesterday to match with Polygon's news\n",
    "todays_date = str(pd.Timestamp.today())[0:10]\n",
    "yesterdays_date = str(pd.Timestamp.today() - timedelta(1))[0:10]\n",
    "\n",
    "for sym in symbols:\n",
    "    # If there are news article from today or yesterday in the first few articles...\n",
    "    for news in api.polygon.news(sym)[0:5]:\n",
    "        if (news.timestamp[0:10] == todays_date) or (news.timestamp[0:10] == yesterdays_date):\n",
    "            \n",
    "            # Try and pull in the summary...\n",
    "            try:\n",
    "                soup = bs.BeautifulSoup(resp.text, 'html.parser')\n",
    "                summary = soup.find('div', {'class': 'a-sum'})\n",
    "                string = []\n",
    "                [string.append(blurb.text) for blurb in summary.findAll('p')]\n",
    "                string = ' '.join(string)\n",
    "                \n",
    "                # For each summary, calculate its corresponding sentiment score and today's percent change\n",
    "                score_dict[sym] = {}\n",
    "                score_dict[sym]['summary'] = string\n",
    "                score_dict[sym]['sentiment_score'] = sia.polarity_scores(string)['compound']\n",
    "                polygon_api = 'https://api.polygon.io/v2/snapshot/locale/us/markets/stocks/tickers/{sym}?apiKey={key}'.format(sym=sym, key=paper_key_id)\n",
    "                score_dict[sym]['todays_change_pct'] = requests.get(polygon_api).json()['ticker']['todaysChangePerc']\n",
    "            except:\n",
    "                pass\n",
    "        else:\n",
    "            pass \n",
    "        \n",
    "# Save all the news to a dataframe\n",
    "df = pd.DataFrame.from_dict(score_dict, orient='index')"
   ]
  },
  {
   "cell_type": "code",
   "execution_count": 60,
   "metadata": {},
   "outputs": [
    {
     "data": {
      "text/html": [
       "<div>\n",
       "<style scoped>\n",
       "    .dataframe tbody tr th:only-of-type {\n",
       "        vertical-align: middle;\n",
       "    }\n",
       "\n",
       "    .dataframe tbody tr th {\n",
       "        vertical-align: top;\n",
       "    }\n",
       "\n",
       "    .dataframe thead th {\n",
       "        text-align: right;\n",
       "    }\n",
       "</style>\n",
       "<table border=\"1\" class=\"dataframe\">\n",
       "  <thead>\n",
       "    <tr style=\"text-align: right;\">\n",
       "      <th></th>\n",
       "      <th>summary</th>\n",
       "      <th>sentiment_score</th>\n",
       "      <th>todays_change_pct</th>\n",
       "    </tr>\n",
       "  </thead>\n",
       "  <tbody>\n",
       "    <tr>\n",
       "      <th>AAPL</th>\n",
       "      <td>Apple's iPhone battery replacement cost the co...</td>\n",
       "      <td>0.1388</td>\n",
       "      <td>-0.240</td>\n",
       "    </tr>\n",
       "    <tr>\n",
       "      <th>ABBV</th>\n",
       "      <td>Humira had to be discounted by over 80% overse...</td>\n",
       "      <td>-0.7798</td>\n",
       "      <td>0.410</td>\n",
       "    </tr>\n",
       "    <tr>\n",
       "      <th>AKAM</th>\n",
       "      <td>Q4 results are out and Akamai beats expectatio...</td>\n",
       "      <td>0.9287</td>\n",
       "      <td>-0.805</td>\n",
       "    </tr>\n",
       "    <tr>\n",
       "      <th>AMZN</th>\n",
       "      <td>Amazon is pulling out of its planned secondary...</td>\n",
       "      <td>-0.8720</td>\n",
       "      <td>-0.852</td>\n",
       "    </tr>\n",
       "    <tr>\n",
       "      <th>APC</th>\n",
       "      <td>Anadarko Petroleum has posted a 74% increase i...</td>\n",
       "      <td>0.7430</td>\n",
       "      <td>2.705</td>\n",
       "    </tr>\n",
       "  </tbody>\n",
       "</table>\n",
       "</div>"
      ],
      "text/plain": [
       "                                                summary  sentiment_score  \\\n",
       "AAPL  Apple's iPhone battery replacement cost the co...           0.1388   \n",
       "ABBV  Humira had to be discounted by over 80% overse...          -0.7798   \n",
       "AKAM  Q4 results are out and Akamai beats expectatio...           0.9287   \n",
       "AMZN  Amazon is pulling out of its planned secondary...          -0.8720   \n",
       "APC   Anadarko Petroleum has posted a 74% increase i...           0.7430   \n",
       "\n",
       "      todays_change_pct  \n",
       "AAPL             -0.240  \n",
       "ABBV              0.410  \n",
       "AKAM             -0.805  \n",
       "AMZN             -0.852  \n",
       "APC               2.705  "
      ]
     },
     "execution_count": 60,
     "metadata": {},
     "output_type": "execute_result"
    }
   ],
   "source": [
    "df.head()"
   ]
  },
  {
   "cell_type": "markdown",
   "metadata": {},
   "source": [
    "Now that we have the news, sentiment score, and the percent change for the day all associated with one day - lets see how correlated they all are"
   ]
  },
  {
   "cell_type": "code",
   "execution_count": 83,
   "metadata": {},
   "outputs": [
    {
     "data": {
      "image/png": "[encoded data removed]",
      "text/plain": [
       "<Figure size 720x360 with 1 Axes>"
      ]
     },
     "metadata": {},
     "output_type": "display_data"
    }
   ],
   "source": [
    "ax = sns.lmplot('sentiment_score', 'todays_change_pct', df, size=5, aspect=2)\n",
    "plt.show()"
   ]
  },
  {
   "cell_type": "markdown",
   "metadata": {},
   "source": [
    "Safe to say this sentiment analysis model is real crummy. According to this graph there a negative correlation between a positive sentiment score and a positive return - which makes zero sense. Ethier there's no correlation (doubtful), we need better news (maybe), or most likely this out-of-the-box sentiment analyzer is to vague and not accurate. "
   ]
  },
  {
   "cell_type": "code",
   "execution_count": 97,
   "metadata": {},
   "outputs": [
    {
     "data": {
      "image/png": "[encoded data removed]",
      "text/plain": [
       "<Figure size 432x288 with 1 Axes>"
      ]
     },
     "metadata": {},
     "output_type": "display_data"
    }
   ],
   "source": [
    "def match(columns):\n",
    "    if (columns[0] > 0 and columns[1] > 0) or (columns[0] < 0 and columns[1] < 0):\n",
    "        return 'Match'\n",
    "    else:\n",
    "        return 'No Match'\n",
    "\n",
    "df['match'] = df[['sentiment_score', 'todays_change_pct']].apply(match, axis=1)\n",
    "sns.barplot(df.groupby('match').count()['sentiment_score'].index, df.groupby('match').count()['sentiment_score'].values)\n",
    "plt.show()"
   ]
  },
  {
   "cell_type": "markdown",
   "metadata": {},
   "source": [
    "We can see though that more often than not, a positive score corresponds with a an increase in price and vice versa. Which is why I'm convinced it is the sentiment analyzer that is the problem and not our theory of news/price correlation"
   ]
  }
 ],
 "metadata": {
  "kernelspec": {
   "display_name": "Python 3",
   "language": "python",
   "name": "python3"
  },
  "language_info": {
   "codemirror_mode": {
    "name": "ipython",
    "version": 3
   },
   "file_extension": ".py",
   "mimetype": "text/x-python",
   "name": "python",
   "nbconvert_exporter": "python",
   "pygments_lexer": "ipython3",
   "version": "3.6.5"
  }
 },
 "nbformat": 4,
 "nbformat_minor": 2
}
